{
  "nbformat": 4,
  "nbformat_minor": 0,
  "metadata": {
    "colab": {
      "name": "unit_test.ipynb",
      "provenance": [],
      "authorship_tag": "ABX9TyPF0HBVLSaBddnDDMSZsCEN",
      "include_colab_link": true
    },
    "kernelspec": {
      "name": "python3",
      "display_name": "Python 3"
    },
    "language_info": {
      "name": "python"
    }
  },
  "cells": [
    {
      "cell_type": "markdown",
      "metadata": {
        "id": "view-in-github",
        "colab_type": "text"
      },
      "source": [
        "<a href=\"https://colab.research.google.com/github/yhatpub/yhatpub/blob/dev/notebooks/unit_tests/hello_world.ipynb\" target=\"_parent\"><img src=\"https://colab.research.google.com/assets/colab-badge.svg\" alt=\"Open In Colab\"/></a>"
      ]
    },
    {
      "cell_type": "code",
      "metadata": {
        "id": "1TLTEs08jk69"
      },
      "source": [
        "!pip install -q --no-cache-dir git+https://github.com/yhatpub/yhat_params.git@main"
      ],
      "execution_count": null,
      "outputs": []
    },
    {
      "cell_type": "code",
      "metadata": {
        "id": "t_LWjxpDjpkY"
      },
      "source": [
        "from yhat_params.yhat_tools import inference_test, FieldType, inference_predict\n",
        "from PIL import ImageFilter\n",
        "\n",
        "input = {\"text\": FieldType.Text, \"image\": FieldType.PIL}\n",
        "output = {\"text\": FieldType.Text, \"image\": FieldType.PIL}\n",
        "\n",
        "@inference_predict(input=input, output=output)\n",
        "def predict(params):\n",
        "    text = f\"hello world {params['text']}\"\n",
        "    image = params['image'].convert(\"RGB\")\n",
        "    image = image.filter(ImageFilter.EMBOSS)\n",
        "    return {\"text\": text, \"image\": image}"
      ],
      "execution_count": null,
      "outputs": []
    },
    {
      "cell_type": "code",
      "metadata": {
        "id": "Mxm1bEKDjq6D"
      },
      "source": [
        "from yhat_params.yhat_tools import in_colab\n",
        "from PIL import Image\n",
        "import torch\n",
        "\n",
        "if in_colab():\n",
        "    torch.hub.download_url_to_file('https://upload.wikimedia.org/wikipedia/en/4/48/Blank.JPG', '1x1.jpg')\n",
        "    img = Image.open('1x1.jpg')  \n",
        "\n",
        "if in_colab():\n",
        "    inference_test(predict_func=predict, params={'text': 'my text', 'image': img})"
      ],
      "execution_count": null,
      "outputs": []
    },
    {
      "cell_type": "code",
      "metadata": {
        "id": "DhO_Tb-C8tEU"
      },
      "source": [
        ""
      ],
      "execution_count": null,
      "outputs": []
    }
  ]
}