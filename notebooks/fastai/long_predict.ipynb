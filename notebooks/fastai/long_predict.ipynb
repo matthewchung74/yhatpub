{
  "nbformat": 4,
  "nbformat_minor": 0,
  "metadata": {
    "colab": {
      "name": "lesson2.ipynb",
      "provenance": [],
      "authorship_tag": "ABX9TyPCF7yZDjU7dl1D5NSyiLhS",
      "include_colab_link": true
    },
    "kernelspec": {
      "name": "python3",
      "display_name": "Python 3"
    },
    "language_info": {
      "name": "python"
    }
  },
  "cells": [
    {
      "cell_type": "markdown",
      "metadata": {
        "id": "view-in-github",
        "colab_type": "text"
      },
      "source": [
        "<a href=\"https://colab.research.google.com/github/yhatpub/yhatpub/blob/errors/notebooks/fastai/long_predict.ipynb\" target=\"_parent\"><img src=\"https://colab.research.google.com/assets/colab-badge.svg\" alt=\"Open In Colab\"/></a>"
      ]
    },
    {
      "cell_type": "markdown",
      "metadata": {
        "id": "5jefeyf4rNvw"
      },
      "source": [
        "test very long predict"
      ]
    },
    {
      "cell_type": "code",
      "metadata": {
        "id": "X4AzcNoIm4GP",
        "colab": {
          "base_uri": "https://localhost:8080/"
        },
        "outputId": "c072e520-9430-40d7-a8cb-7075d857f6ca"
      },
      "source": [
        "!pip install -q --no-cache-dir git+https://github.com/yhatpub/yhat_params.git@main"
      ],
      "execution_count": 1,
      "outputs": [
        {
          "output_type": "stream",
          "name": "stdout",
          "text": [
            "  Installing build dependencies ... \u001b[?25l\u001b[?25hdone\n",
            "  Getting requirements to build wheel ... \u001b[?25l\u001b[?25hdone\n",
            "    Preparing wheel metadata ... \u001b[?25l\u001b[?25hdone\n",
            "\u001b[K     |████████████████████████████████| 131 kB 5.3 MB/s \n",
            "\u001b[K     |████████████████████████████████| 62 kB 21.3 MB/s \n",
            "\u001b[K     |████████████████████████████████| 79 kB 44.1 MB/s \n",
            "\u001b[K     |████████████████████████████████| 8.1 MB 22.6 MB/s \n",
            "\u001b[K     |████████████████████████████████| 138 kB 81.8 MB/s \n",
            "\u001b[?25h  Building wheel for yhat-params (PEP 517) ... \u001b[?25l\u001b[?25hdone\n",
            "\u001b[31mERROR: pip's dependency resolver does not currently take into account all the packages that are installed. This behaviour is the source of the following dependency conflicts.\n",
            "google-colab 1.0.0 requires requests~=2.23.0, but you have requests 2.26.0 which is incompatible.\n",
            "datascience 0.10.6 requires folium==0.2.1, but you have folium 0.8.3 which is incompatible.\u001b[0m\n"
          ]
        }
      ]
    },
    {
      "cell_type": "code",
      "metadata": {
        "id": "OvT09y4AtYUU"
      },
      "source": [
        "from yhat_params.yhat_tools import FieldType, inference_predict"
      ],
      "execution_count": 2,
      "outputs": []
    },
    {
      "cell_type": "code",
      "metadata": {
        "id": "j6tBxYZRm-fT"
      },
      "source": [
        "import time\n",
        "\n",
        "input = {\"text\": FieldType.Text}\n",
        "output = {\"text\": FieldType.Text}\n",
        "\n",
        "@inference_predict(input=input, output=output)\n",
        "def predict(params):\n",
        "    time.sleep(90)\n",
        "    return {\"text\":  params['text']}"
      ],
      "execution_count": 3,
      "outputs": []
    },
    {
      "cell_type": "code",
      "metadata": {
        "id": "gvuNezKWm_dY",
        "colab": {
          "base_uri": "https://localhost:8080/"
        },
        "outputId": "f9b1ee7b-ddeb-4baa-bd1a-79a8219bfcce"
      },
      "source": [
        "from yhat_params.yhat_tools import in_colab, inference_test\n",
        "\n",
        "if in_colab():\n",
        "    import urllib.request\n",
        "    from PIL import Image\n",
        "    inference_test(predict_func=predict, params={'text': 'hi'})"
      ],
      "execution_count": 4,
      "outputs": [
        {
          "output_type": "stream",
          "name": "stdout",
          "text": [
            "Wrote results to result.json duration: 90.089199 seconds\n",
            "Please take a look and verify the results\n",
            "{\n",
            "    \"text\": \"hi\"\n",
            "}\n"
          ]
        }
      ]
    }
  ]
}